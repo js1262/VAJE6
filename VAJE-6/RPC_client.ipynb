{
 "cells": [
  {
   "cell_type": "markdown",
   "metadata": {},
   "source": [
    "# Vaja - RPC client\n",
    "\n",
    "Izdelali bomo preprost rpc client z uporabo knjižnice requests. Na koncu če bomo imeli čas si bomo ogledali kako lahko nastalo kodo še dodatno optimiziramo tako da uporabimo async  in batching metodi. \n",
    "\n",
    "Dokumentacija RPC api-ja: https://ethereum.github.io/execution-apis/api-documentation/\n",
    "\n",
    "## Prvi del - samostojna izdelava klienta (zaprosimo za zadnji blok)\n",
    "\n",
    "- Definiramo variable, ki so potrebne za request (POST)\n",
    "- Pošljemo request\n",
    "- Preverimo če je odgovor pravilen, ter shranimo odgovor v json (if pravilen)\n"
   ]
  },
  {
   "cell_type": "markdown",
   "metadata": {},
   "source": [
    "\n",
    "#### Implementiraj kodo (pomagaj si z comments)\n",
    "\n",
    "\n",
    "\n",
    "\n",
    "\n"
   ]
  },
  {
   "cell_type": "code",
   "execution_count": null,
   "metadata": {},
   "outputs": [],
   "source": [
    "import requests\n",
    "import json\n",
    "\n",
    "# definiraj VARIABLE nase skripte\n",
    "    # API URL od infure za Ethereum mainnet\n",
    "node_url = \"https://mainnet.infura.io/v3/827c9a9ccd204b0fa46973e4de5bd53b\"\"\n",
    "\n",
    "    # JSON-RPC request payload  (pogledamo dokumentacijo!)\n",
    "payload = {\n",
    "    \"jsonrpc\": \"2.0\",\n",
    "    \"method\": \"eth_blockNumber\",\n",
    "    \"params\": [\"latest\", True],\n",
    "    \"id\": 0\n",
    "}\n",
    "\n",
    "    # Nastavimo headerje za JSON-RPC request\n",
    "headers = {\n",
    "    \"Content type\": \"application/json\"\n",
    "}\n",
    "\n",
    "# Pošljemo request (uporabimo requests.post mdetodo)\n",
    "response = requests.post(node_url, payload, headers)\n",
    "\n",
    "# Error handling. POgledamo če smo dobili pravilen odgovor.\n",
    "    # ce ni error-ja (status code 200) sprintamo sporocilo in shranimo dobljeno sporocilo v json\n",
    "\n",
    "    # else, sprintaj sporocilo da nam ni uspelo dobiti zadnji block in dodaj kateri error oz. code-status code smo dobili\n"
   ]
  },
  {
   "cell_type": "markdown",
   "metadata": {},
   "source": [
    "\n",
    "## Drugi del - delo s podatki (block_data.json)\n",
    "\n",
    "V bloku imamo del kjer so zapisane transakcije, naša naloga je, da preštejemo koliko je teh transakcij."
   ]
  },
  {
   "cell_type": "code",
   "execution_count": null,
   "metadata": {},
   "outputs": [],
   "source": [
    "\n",
    "# naredimo kopijo podatkov - .copy() metoda\n",
    "\n",
    "\n",
    "# definiramo counter\n",
    "\n",
    "\n",
    "# Iteriramo čez transakcije in povečujemo counter\n",
    "\n",
    "\n",
    "# Izpišemo/sprintamo counter (število transakcij)\n",
    "\n"
   ]
  },
  {
   "cell_type": "markdown",
   "metadata": {},
   "source": [
    "\n",
    "##  Tretji del - DODATNA VAJA ni obezna - izluščimo vse naslove (from, to) iz transakcij\n",
    "\n",
    "V vsaki transakciji imamo definirana naslova pošiljalca (\"from\") in prejemnika (\"to\"). Naša naloga je, da izluščimo vse naslove in jih shranimo v dictionary kot ključe (key). Za vrednosti (value) pa zaenkrat zapisemo vrednost None.\n"
   ]
  },
  {
   "cell_type": "code",
   "execution_count": null,
   "metadata": {},
   "outputs": [],
   "source": [
    "\n",
    "# naredimo kopijo podatkov - .copy() metoda\n",
    "\n",
    "\n",
    "# definiramo dictionary za shranjevanje naslovov\n",
    "\n",
    "\n",
    "# iteriramo čez transakcije in izluščimo naslove (.get(\"from\")   .get(\"to\")) in jih shranimo v dictionary\n",
    "\n",
    "\n",
    "# sprintamo dictionary\n",
    "\n"
   ]
  },
  {
   "cell_type": "markdown",
   "metadata": {},
   "source": [
    "## Četrti del - refactoring\n",
    "\n",
    "Do sedaj spisano kodo spravite v funkciji in nato napisite se main() funkcijo ki klice funkciji v pravilnem vrstnem redu. Rezultat je bolj pregledna in modularna skripta.\n",
    "\n",
    "- Kodo do zdaj spravi v funkciji\n",
    "- Napiši še dodatno funkcijo main() ki bo klicala obe funkciji v pravilnem vrstnem redu\n",
    "    - npr. 1. funkcija getBlock 2. funkcija steviloTransakcij ali izlusciNaslove\n"
   ]
  },
  {
   "cell_type": "code",
   "execution_count": null,
   "metadata": {},
   "outputs": [],
   "source": []
  }
 ],
 "metadata": {
  "kernelspec": {
   "display_name": "Python 3 (ipykernel)",
   "language": "python",
   "name": "python3"
  }
 },
 "nbformat": 4,
 "nbformat_minor": 2
}
